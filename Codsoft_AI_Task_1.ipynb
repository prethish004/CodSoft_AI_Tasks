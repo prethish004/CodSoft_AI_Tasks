{
  "nbformat": 4,
  "nbformat_minor": 0,
  "metadata": {
    "colab": {
      "provenance": []
    },
    "kernelspec": {
      "name": "python3",
      "display_name": "Python 3"
    },
    "language_info": {
      "name": "python"
    }
  },
  "cells": [
    {
      "cell_type": "code",
      "source": [
        "import re\n",
        "def rule_based_chatbot(user_input):\n",
        "    rules = [\n",
        "        {'pattern': r'hello|hi|hey', 'response': 'Hello! How can I help you?'},\n",
        "        {'pattern': r'how are you', 'response': 'I am a computer program, so I don\\'t have feelings, but thanks for asking!'},\n",
        "        {'pattern': r'bye|goodbye', 'response': 'Goodbye! Have a great day!'},\n",
        "        {'pattern': r'cool car', 'response': 'Black BMW'},\n",
        "        {'pattern': r'i love you', 'response': 'I Love you too 💕💕💕'},\n",
        "        {'pattern': r'Top anime', 'response': 'One pice,Dragon Ball'},\n",
        "        {'pattern': r'emoji', 'response': '😊😂🤣❤️😍😒👌😘💕😁👍🙌'},\n",
        "        {'pattern': r'name', 'response': 'I am a chatbotSP.'},\n",
        "        {'pattern': r'help', 'response': 'I can assist you with general information. Ask me anything!'}\n",
        "    ]\n",
        "    for rule in rules:\n",
        "        if re.search(rule['pattern'], user_input, re.IGNORECASE):\n",
        "            return rule['response']\n",
        "    return 'I\\'m sorry, I didn\\'t understand that. Could you please ask another question?'\n",
        "while True:\n",
        "    user_input = input(\"You: \")\n",
        "    if user_input.lower() == 'end':\n",
        "        break\n",
        "    response = rule_based_chatbot(user_input)\n",
        "    print(\"Bot:\", response)"
      ],
      "metadata": {
        "colab": {
          "base_uri": "https://localhost:8080/"
        },
        "id": "kIWp6VgQMs6t",
        "outputId": "62d559bf-7610-44b8-eac4-d77ac237da8f"
      },
      "execution_count": null,
      "outputs": [
        {
          "name": "stdout",
          "output_type": "stream",
          "text": [
            "You: name\n",
            "Bot: I am a chatbotSP.\n",
            "You: hi\n",
            "Bot: Hello! How can I help you?\n",
            "You: top anime\n",
            "Bot: One pice,Dragon Ball\n",
            "You: emoji\n",
            "Bot: 😊😂🤣❤️😍😒👌😘💕😁👍🙌\n",
            "You: i love you\n",
            "Bot: I Love you too 💕💕💕\n",
            "You: cool car\n",
            "Bot: Black BMW\n",
            "You: end\n"
          ]
        }
      ]
    },
    {
      "cell_type": "code",
      "source": [],
      "metadata": {
        "id": "UibrWHvePcqG"
      },
      "execution_count": null,
      "outputs": []
    }
  ]
}